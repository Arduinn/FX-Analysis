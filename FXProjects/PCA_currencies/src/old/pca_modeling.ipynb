{
 "cells": [
  {
   "cell_type": "code",
   "execution_count": 125,
   "metadata": {},
   "outputs": [],
   "source": [
    "import pandas as pd\n",
    "import os\n",
    "import glob\n",
    "from sklearn.preprocessing import StandardScaler\n",
    "from sklearn.decomposition import PCA"
   ]
  },
  {
   "cell_type": "code",
   "execution_count": 126,
   "metadata": {},
   "outputs": [],
   "source": [
    "# import csv\n",
    "\n",
    "currencies_folder = \"../data/raw/\"\n",
    "\n",
    "# Dictionary to hold DataFrames\n",
    "dataframes = {}\n",
    "\n",
    "# Iterate through all files in the folder\n",
    "for filename in os.listdir(currencies_folder):\n",
    "    if filename.endswith('.csv'):\n",
    "        # Construct full file path\n",
    "        file_path = os.path.join(currencies_folder, filename)\n",
    "        \n",
    "        # Read the CSV file into a DataFrame\n",
    "        df = pd.read_csv(file_path)\n",
    "        \n",
    "        # Use the filename (without .csv) as the key for the DataFrame\n",
    "        key = os.path.splitext(filename)[0]  # Remove the .csv extension\n",
    "        dataframes[key] = df"
   ]
  },
  {
   "cell_type": "code",
   "execution_count": 127,
   "metadata": {},
   "outputs": [],
   "source": [
    "def pcaCoinModeling(df_currencies, csv_name):\n",
    "    \n",
    "    # Replace missing values with the value from the cell below\n",
    "    df_currencies.fillna(df_currencies, inplace=True)\n",
    "    \n",
    "    # Drop rows with missing values\n",
    "    df_currencies.dropna(inplace=True)\n",
    "    \n",
    "    # Store Date Column\n",
    "    data_index = df_currencies[\"Date\"]\n",
    "    \n",
    "    # Drop the 'Date' column\n",
    "    df_currencies.drop(columns=['Date'], inplace=True)\n",
    "    \n",
    "    # Set the target currency\n",
    "    target_currency = df_currencies.columns[0]\n",
    "\n",
    "    \n",
    "    # Standardize the currency data (excluding the target currency)\n",
    "    scaler = StandardScaler()\n",
    "    scaled_data = scaler.fit_transform(df_currencies.drop(columns=[target_currency]))\n",
    "\n",
    "    # Perform PCA with 2 components\n",
    "    pca = PCA(n_components=2)\n",
    "    pca_components = pca.fit_transform(scaled_data)\n",
    "    \n",
    "    # Create a DataFrame for the principal components\n",
    "    pca_df = pd.DataFrame(data=pca_components, columns=['PC1', 'PC2'])\n",
    "    \n",
    "    # Create a DataFrame for the principal components\n",
    "    pca_df = pd.DataFrame(data=pca_components, columns=['PC1', 'PC2'])\n",
    "\n",
    "    # Combine PCA components with the target currency\n",
    "    target_values = df_currencies[target_currency].reset_index(drop=True)\n",
    "    combined_data = pd.concat([pca_df, target_values], axis=1)\n",
    "    \n",
    "    combined_data.index = data_index\n",
    "     \n",
    "    csvExport_path = \"../data/processed/\"\n",
    "    \n",
    "    combined_data.to_csv(f\"{csvExport_path}/{csv_name}_PCA.csv\", index=True, sep=\";\") \n",
    "    \n",
    "    return None"
   ]
  },
  {
   "cell_type": "code",
   "execution_count": 128,
   "metadata": {},
   "outputs": [
    {
     "name": "stdout",
     "output_type": "stream",
     "text": [
      "Deleted: ../data/processed/BRL_emerg_PCA.csv\n"
     ]
    }
   ],
   "source": [
    "csvExport_path = \"../data/processed/\"\n",
    "\n",
    "# Create a pattern to match all CSV files\n",
    "csv_pattern = os.path.join(csvExport_path, '*.csv')\n",
    "\n",
    "# Use glob to find all CSV files\n",
    "csv_files = glob.glob(csv_pattern)\n",
    "\n",
    "# Loop through the list of CSV files and delete each one\n",
    "for csv_file in csv_files:\n",
    "    try:\n",
    "        os.remove(csv_file)  # Delete the file\n",
    "        print(f\"Deleted: {csv_file}\")\n",
    "    except Exception as e:\n",
    "        print(f\"Error deleting {csv_file}: {e}\")\n",
    "\n",
    "for coinBasket in dataframes.keys():\n",
    "    # print(pd.DataFrame(dataframes[coinBasket]))\n",
    "    pcaCoinModeling(dataframes[coinBasket], coinBasket)\n"
   ]
  }
 ],
 "metadata": {
  "kernelspec": {
   "display_name": "datascience",
   "language": "python",
   "name": "python3"
  },
  "language_info": {
   "codemirror_mode": {
    "name": "ipython",
    "version": 3
   },
   "file_extension": ".py",
   "mimetype": "text/x-python",
   "name": "python",
   "nbconvert_exporter": "python",
   "pygments_lexer": "ipython3",
   "version": "3.10.13"
  }
 },
 "nbformat": 4,
 "nbformat_minor": 2
}
