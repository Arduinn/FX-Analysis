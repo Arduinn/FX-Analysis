{
 "cells": [
  {
   "cell_type": "code",
   "execution_count": 27,
   "metadata": {},
   "outputs": [],
   "source": [
    "import subprocess\n",
    "import os"
   ]
  },
  {
   "cell_type": "code",
   "execution_count": 28,
   "metadata": {},
   "outputs": [
    {
     "name": "stdout",
     "output_type": "stream",
     "text": [
      "Script output:\n",
      "Deleted: ../data/raw/COP_emerg.csv\n",
      "Choose which currency you would like to process:\n",
      " ['BRL', 'MXN', 'COP']\n",
      "Enter the currency you would like to process: You selected Colobian Peso (COP).\n",
      "Downloading data for COP=X...\n",
      "Downloading data for MXN=X...\n",
      "Downloading data for BRL=X...\n",
      "Downloading data for ZAR=X...\n",
      "Downloading data for ARS=X...\n",
      "Downloading data for CLP=X...\n",
      "Downloading data for PEN=X...\n",
      "Downloading data for TRY=X...\n",
      "Downloading data for PLN=X...\n",
      "Downloading data for HUF=X...\n",
      "Downloading data for COP=X...\n",
      "Downloading data for BRL=X...\n",
      "Downloading data for ZAR=X...\n",
      "Downloading data for ARS=X...\n",
      "Downloading data for CLP=X...\n",
      "Downloading data for PEN=X...\n",
      "Downloading data for AUD=X...\n",
      "Downloading data for NZD=X...\n",
      "\n"
     ]
    }
   ],
   "source": [
    "# Import Data\n",
    "# Get the current working directory\n",
    "current_dir = os.getcwd()\n",
    "\n",
    "# Define the input you want to provide\n",
    "input_value = \"COP\\n\"  # Include a newline character to simulate pressing Enter\n",
    "\n",
    "# Call the script with the input\n",
    "process = subprocess.run(\n",
    "    [\"python\", \"import_currenciesData.py\"],  # Your script name here\n",
    "    input=input_value,\n",
    "    text=True,  # Enables text mode\n",
    "    capture_output=True  # Capture stdout and stderr\n",
    ")\n",
    "\n",
    "# Get the output\n",
    "output = process.stdout\n",
    "print(\"Script output:\")\n",
    "print(output)"
   ]
  },
  {
   "cell_type": "code",
   "execution_count": 29,
   "metadata": {},
   "outputs": [
    {
     "name": "stdout",
     "output_type": "stream",
     "text": [
      "Script output:\n",
      "Deleted: ../data/processed/COP_emerg_PCA.csv\n",
      "\n"
     ]
    }
   ],
   "source": [
    "# Executing PCA\n",
    "\n",
    "# Call the script with the input\n",
    "process = subprocess.run(\n",
    "    [\"python\", \"pca_modeling.py\"],  # Your script name here\n",
    "    text=True,  # Enables text mode\n",
    "    capture_output=True  # Capture stdout and stderr\n",
    ")\n",
    "\n",
    "# Get the output\n",
    "output = process.stdout\n",
    "print(\"Script output:\")\n",
    "print(output)"
   ]
  },
  {
   "cell_type": "code",
   "execution_count": 30,
   "metadata": {},
   "outputs": [
    {
     "name": "stdout",
     "output_type": "stream",
     "text": [
      "Script output:\n",
      "Deleted: ../data/projection/COP_emerg_PCA.csv\n",
      "\n"
     ]
    }
   ],
   "source": [
    "# Processing Time Series\n",
    "\n",
    "# Call the script with the input\n",
    "process = subprocess.run(\n",
    "    [\"python\", \"timeseries_projection.py\"],  # Your script name here\n",
    "    text=True,  # Enables text mode\n",
    "    capture_output=True  # Capture stdout and stderr\n",
    ")\n",
    "\n",
    "# Get the output\n",
    "output = process.stdout\n",
    "print(\"Script output:\")\n",
    "print(output)"
   ]
  }
 ],
 "metadata": {
  "kernelspec": {
   "display_name": "datascience",
   "language": "python",
   "name": "python3"
  },
  "language_info": {
   "codemirror_mode": {
    "name": "ipython",
    "version": 3
   },
   "file_extension": ".py",
   "mimetype": "text/x-python",
   "name": "python",
   "nbconvert_exporter": "python",
   "pygments_lexer": "ipython3",
   "version": "3.10.13"
  }
 },
 "nbformat": 4,
 "nbformat_minor": 2
}
