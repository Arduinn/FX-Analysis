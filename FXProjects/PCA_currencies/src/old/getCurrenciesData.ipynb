{
 "cells": [
  {
   "cell_type": "code",
   "execution_count": 120,
   "metadata": {},
   "outputs": [],
   "source": [
    "import yaml\n",
    "import yfinance as yf\n",
    "from datetime import datetime, timedelta\n",
    "import pandas as pd\n",
    "import os\n",
    "import glob"
   ]
  },
  {
   "cell_type": "code",
   "execution_count": 121,
   "metadata": {},
   "outputs": [],
   "source": [
    "# Importing Data\n",
    "\n",
    "class CurrencyBasket:\n",
    "    def __init__(self, yaml_file):\n",
    "        # Load YAML data and retrieve first-level keys\n",
    "        with open(yaml_file, 'r') as file:\n",
    "            self.currencies_data = yaml.safe_load(file)\n",
    "        self.first_level_keys = list(self.currencies_data.keys())\n",
    "    \n",
    "    def download_yfData(self, currencies_list):\n",
    "        # Create an empty DataFrame to store currency data\n",
    "        currency_data_df = pd.DataFrame()\n",
    "        \n",
    "        # Define date range for data fetching\n",
    "        end_date = datetime.today().strftime('%Y-%m-%d')\n",
    "        start_date = (datetime.today() - timedelta(days=15 * 365)).strftime('%Y-%m-%d')\n",
    "\n",
    "        # Loop through each currency in the currencies_list and download historical data\n",
    "        for curr in currencies_list:\n",
    "            print(f\"Downloading data for {curr}...\")  # Debug output\n",
    "            try:\n",
    "                # Fetch historical data\n",
    "                data = yf.download(curr, start=start_date, end=end_date)\n",
    "                if not data.empty:\n",
    "                    currency_data_df[curr] = data['Close']\n",
    "                else:\n",
    "                    print(f\"No data found for {curr}\")\n",
    "            except Exception as e:\n",
    "                print(f\"An error occurred while downloading data for {curr}: {e}\")\n",
    "                \n",
    "        currency_data_df.columns = currency_data_df.columns.str.replace('=X', '', regex=False)\n",
    "\n",
    "        return currency_data_df  # Return the DataFrame containing historical currency data\n",
    "\n",
    "    def display_options(self):\n",
    "        # Display the list of top-level keys (currencies)\n",
    "        print(\"Choose which currency you would like to process:\\n\", self.first_level_keys)\n",
    "\n",
    "    def get_currency_data(self, currency):\n",
    "        # Retrieve data for a specific currency if it exists\n",
    "        return self.currencies_data.get(currency, \"Currency not found.\")\n",
    "\n",
    "    def prompt_and_process(self):\n",
    "        csvExport_path = \"../data/raw/\"\n",
    "        \n",
    "        # Create a pattern to match all CSV files\n",
    "        csv_pattern = os.path.join(csvExport_path, '*.csv')\n",
    "\n",
    "        # Use glob to find all CSV files\n",
    "        csv_files = glob.glob(csv_pattern)\n",
    "        \n",
    "        # Loop through the list of CSV files and delete each one\n",
    "        for csv_file in csv_files:\n",
    "            try:\n",
    "                os.remove(csv_file)  # Delete the file\n",
    "                print(f\"Deleted: {csv_file}\")\n",
    "            except Exception as e:\n",
    "                print(f\"Error deleting {csv_file}: {e}\")\n",
    "                \n",
    "        # Display available options\n",
    "        self.display_options()\n",
    "        \n",
    "        # Prompt the user for input and store the choice\n",
    "        currency = input(\"Enter the currency you would like to process: \").strip().upper()\n",
    "        \n",
    "        # Process the choice and perform specific actions based on the currency\n",
    "        if currency == \"BRL\":\n",
    "            print(\"You selected Brazilian Real (BRL).\")\n",
    "            # Add specific processing for BRL here\n",
    "            emerg_basket = self.currencies_data[currency].get('emergents', [])\n",
    "            comm_basket = self.currencies_data[currency].get('commodities', [])\n",
    "\n",
    "            # Download data\n",
    "            brl_emerg = self.download_yfData(emerg_basket)  # Store the returned DataFrame\n",
    "            brl_comm = self.download_yfData(comm_basket)    # Store the returned DataFrame\n",
    "            \n",
    "            # Save CSV\n",
    "            brl_emerg.to_csv(f\"{csvExport_path}/{currency}_emerg.csv\", index=False)\n",
    "            brl_comm.to_csv(f\"{csvExport_path}/{currency}_comm.csv\", index=False) \n",
    "            \n",
    "            \n",
    "\n",
    "            print(\"Downloaded BRL data\") \n",
    "        \n",
    "        elif currency == \"MXN\":\n",
    "            print(\"You selected Mexican Peso (MXN).\")\n",
    "            # Access the list or dictionary for MXN\n",
    "            currency_basket = self.currencies_data[currency][\"emergents\"]\n",
    "            print(\"Emergent currencies for MXN:\", currency_basket)\n",
    "        \n",
    "        else:\n",
    "            # Handle cases where the currency is not BRL or MXN\n",
    "            print(\"You selected:\", currency)\n",
    "            currency_data = self.get_currency_data(currency)\n",
    "            print(f\"Data for {currency}:\", currency_data)\n",
    "\n",
    "            # Define date range for data fetching\n",
    "            end_date = datetime.today().strftime('%Y-%m-%d')\n",
    "            start_date = (datetime.today() - timedelta(days=15 * 365)).strftime('%Y-%m-%d')\n",
    "\n",
    "        return \"Code Completed\"\n",
    "\n"
   ]
  },
  {
   "cell_type": "code",
   "execution_count": 122,
   "metadata": {},
   "outputs": [
    {
     "name": "stdout",
     "output_type": "stream",
     "text": [
      "Deleted: ../data/raw/BRL_comm.csv\n",
      "Deleted: ../data/raw/BRL_emerg.csv\n",
      "Choose which currency you would like to process:\n",
      " ['BRL', 'MXN']\n"
     ]
    },
    {
     "name": "stderr",
     "output_type": "stream",
     "text": [
      "[*********************100%%**********************]  1 of 1 completed\n",
      "[*********************100%%**********************]  1 of 1 completed\n",
      "[*********************100%%**********************]  1 of 1 completed\n",
      "[*********************100%%**********************]  1 of 1 completed\n",
      "[*********************100%%**********************]  1 of 1 completed\n",
      "[*********************100%%**********************]  1 of 1 completed\n",
      "[*********************100%%**********************]  1 of 1 completed\n",
      "[*********************100%%**********************]  1 of 1 completed\n",
      "[*********************100%%**********************]  1 of 1 completed\n",
      "[*********************100%%**********************]  1 of 1 completed\n",
      "[*********************100%%**********************]  1 of 1 completed\n",
      "[*********************100%%**********************]  1 of 1 completed\n",
      "[*********************100%%**********************]  1 of 1 completed\n",
      "[*********************100%%**********************]  1 of 1 completed"
     ]
    },
    {
     "name": "stdout",
     "output_type": "stream",
     "text": [
      "You selected Brazilian Real (BRL).\n",
      "Downloading data for BRL=X...\n",
      "Downloading data for ZAR=X...\n",
      "Downloading data for ARS=X...\n",
      "Downloading data for CLP=X...\n",
      "Downloading data for COP=X...\n",
      "Downloading data for PEN=X...\n",
      "Downloading data for TRY=X...\n",
      "Downloading data for MXN=X...\n",
      "Downloading data for PLN=X...\n",
      "Downloading data for HUF=X...\n",
      "Downloading data for BRL=X...\n",
      "Downloading data for ZAR=X...\n",
      "Downloading data for ARS=X...\n",
      "Downloading data for CLP=X...\n",
      "Downloading data for COP=X...\n"
     ]
    },
    {
     "name": "stderr",
     "output_type": "stream",
     "text": [
      "\n",
      "[*********************100%%**********************]  1 of 1 completed\n",
      "[*********************100%%**********************]  1 of 1 completed\n",
      "[*********************100%%**********************]  1 of 1 completed\n",
      "[*********************100%%**********************]  1 of 1 completed\n"
     ]
    },
    {
     "name": "stdout",
     "output_type": "stream",
     "text": [
      "Downloading data for PEN=X...\n",
      "Downloading data for AUD=X...\n",
      "Downloading data for NZD=X...\n",
      "Downloaded BRL data\n"
     ]
    }
   ],
   "source": [
    "# Usage\n",
    "currency_basket = CurrencyBasket(\"currenciesBasket.yaml\")\n",
    "\n",
    "# Prompt user and process the selected currency\n",
    "historical_data = currency_basket.prompt_and_process()\n"
   ]
  }
 ],
 "metadata": {
  "kernelspec": {
   "display_name": "datascience",
   "language": "python",
   "name": "python3"
  },
  "language_info": {
   "codemirror_mode": {
    "name": "ipython",
    "version": 3
   },
   "file_extension": ".py",
   "mimetype": "text/x-python",
   "name": "python",
   "nbconvert_exporter": "python",
   "pygments_lexer": "ipython3",
   "version": "3.10.13"
  }
 },
 "nbformat": 4,
 "nbformat_minor": 2
}
